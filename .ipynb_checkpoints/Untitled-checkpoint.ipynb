{
 "cells": [
  {
   "cell_type": "code",
   "execution_count": 6,
   "id": "3677410c-b193-4b6d-8111-36d8b84e4d51",
   "metadata": {},
   "outputs": [
    {
     "name": "stdout",
     "output_type": "stream",
     "text": [
      "An error occurred during file splitting: Split.__init__() got an unexpected keyword argument 'file'\n"
     ]
    }
   ],
   "source": [
    "from filesplit.split import Split\n",
    "\n",
    "def split_large_file(file_path, output_dir, split_size):\n",
    "    \"\"\"\n",
    "    Splits a large file into smaller chunks using the filesplit library.\n",
    "    \n",
    "    Args:\n",
    "        file_path (str): Path to the large file that needs to be split.\n",
    "        output_dir (str): Directory where the split files will be saved.\n",
    "        split_size (int): Size of each split file in bytes.\n",
    "        \n",
    "    Returns:\n",
    "        None\n",
    "    \"\"\"\n",
    "    try:\n",
    "        # Initialize the Split object\n",
    "        splitter = Split(file=file_path, output_dir=output_dir)\n",
    "        \n",
    "        # Perform the split operation\n",
    "        splitter.split()\n",
    "        print(f\"File split successfully! Chunks are saved in: {output_dir}\")\n",
    "    except Exception as e:\n",
    "        print(f\"An error occurred during file splitting: {e}\")\n",
    "\n",
    "if __name__ == \"__main__\":\n",
    "    # Define the file to be split\n",
    "    large_file_path = \"/Users/roshin/Documents/Slides/templates/mlx/model.safetensors\"  # Replace with the path to your file\n",
    "    \n",
    "    # Define the output directory for split files\n",
    "    output_directory = \"/Users/roshin/Documents/Slides/templates/mlx/output\"  # Replace with the desired output directory\n",
    "    \n",
    "    # Define the size of each split file in bytes (e.g., 10 MB = 10 * 1024 * 1024 bytes)\n",
    "    split_file_size = 10 * 1024 * 1024  # 10 MB\n",
    "    \n",
    "    # Call the function to split the file\n",
    "    split_large_file(large_file_path, output_directory, split_file_size)\n",
    "\n"
   ]
  },
  {
   "cell_type": "code",
   "execution_count": null,
   "id": "728f43d1-2334-4b13-a7bd-f5fa7aeac81e",
   "metadata": {},
   "outputs": [],
   "source": []
  }
 ],
 "metadata": {
  "kernelspec": {
   "display_name": "Python 3 (ipykernel)",
   "language": "python",
   "name": "python3"
  },
  "language_info": {
   "codemirror_mode": {
    "name": "ipython",
    "version": 3
   },
   "file_extension": ".py",
   "mimetype": "text/x-python",
   "name": "python",
   "nbconvert_exporter": "python",
   "pygments_lexer": "ipython3",
   "version": "3.11.4"
  }
 },
 "nbformat": 4,
 "nbformat_minor": 5
}
